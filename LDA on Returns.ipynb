{
 "cells": [
  {
   "cell_type": "code",
   "execution_count": 1,
   "metadata": {},
   "outputs": [],
   "source": [
    "import re\n",
    "\n",
    "import numpy as np\n",
    "\n",
    "from sklearn.preprocessing import normalize\n",
    "from sklearn.decomposition import LatentDirichletAllocation"
   ]
  },
  {
   "cell_type": "code",
   "execution_count": 2,
   "metadata": {},
   "outputs": [],
   "source": [
    "# from IPython.core.display import display, HTML\n",
    "# display(HTML(\"<style>.container { width:100% !important; }</style>\"))"
   ]
  },
  {
   "cell_type": "code",
   "execution_count": 3,
   "metadata": {},
   "outputs": [],
   "source": [
    "def print1d(template, values):\n",
    "    for value in values: print(template.format(value), end = '')\n",
    "    print()\n",
    "    \n",
    "def print2d(template, valuess, blank = '', threshold = None):\n",
    "    for values in valuess:\n",
    "        for value in values:\n",
    "            print(template.format(value) if (threshold == None) or (value > threshold) else blank, end = '')\n",
    "        print()"
   ]
  },
  {
   "cell_type": "code",
   "execution_count": 4,
   "metadata": {},
   "outputs": [],
   "source": [
    "corpus = [\n",
    "    'Investment in Deutsche Bank yields low return.',\n",
    "    'My investment may return nothing.', \n",
    "    'Federer’s return was good, his volley was not.',\n",
    "    'Return volley, return volley; tennis is boring.',\n",
    "    'Return on investment is on a ten year high.',\n",
    "#    'Tennis is for Federer!',\n",
    "#    'Deutsche Bank may be an investment bank.'\n",
    "]"
   ]
  },
  {
   "cell_type": "code",
   "execution_count": 5,
   "metadata": {},
   "outputs": [
    {
     "name": "stdout",
     "output_type": "stream",
     "text": [
      "investment  deutsche    bank        yields      return      \n",
      "investment  return      nothing     \n",
      "federer     return      good        volley      \n",
      "return      volley      return      volley      tennis      boring      \n",
      "return      investment  year        high        \n"
     ]
    }
   ],
   "source": [
    "bags = []\n",
    "\n",
    "for document in corpus:\n",
    "    \n",
    "    tokens = re.split('[ .!,;’]', document)\n",
    "    bag    = [token.lower() for token in tokens if len(token) > 3]\n",
    "    \n",
    "#    stop_words = ['', 'in', 'my', 'may', 's', 'was', 'his', 'not', 'is', 'on', 'a', 'ten', 'for', 'be', 'an']\n",
    "#    bag        = [token.lower() for token in tokens if token.lower() not in stop_words]\n",
    "\n",
    "#    bag        = ['hi/lo' if word in {'high', 'low'} else word for word in bag]\n",
    "    \n",
    "    bags.append(bag)\n",
    "\n",
    "print2d('{:12s}', bags)"
   ]
  },
  {
   "cell_type": "code",
   "execution_count": 8,
   "metadata": {},
   "outputs": [
    {
     "name": "stdout",
     "output_type": "stream",
     "text": [
      "investment  deutsche  bank  yields  return  nothing  federer  good  volley  tennis  boring  year  high  \n"
     ]
    }
   ],
   "source": [
    "vocabulary = dict.fromkeys([word for bag in bags for word in bag])\n",
    "\n",
    "# vocabulary = dict.fromkeys(['investment', 'return', 'federer', 'volley'])\n",
    "# for bag in bags: bag = [word for word in bag if word in vocabulary]\n",
    "\n",
    "words = [word for word in vocabulary.keys()]\n",
    "\n",
    "print1d('{}  ', words)"
   ]
  },
  {
   "cell_type": "code",
   "execution_count": 9,
   "metadata": {},
   "outputs": [
    {
     "name": "stdout",
     "output_type": "stream",
     "text": [
      "investment deutsche     bank   yields   return  nothing  federer     good   volley   tennis   boring     year     high\n",
      "----------------------------------------------------------------------------------------------------------------------\n",
      "        1        1        1        1        1                                                                        \n",
      "        1                                   1        1                                                               \n",
      "                                            1                 1        1        1                                    \n",
      "                                            2                                   2        1        1                  \n",
      "        1                                   1                                                              1        1\n",
      "----------------------------------------------------------------------------------------------------------------------\n",
      "        3        1        1        1        6        1        1        1        3        1        1        1        1\n"
     ]
    }
   ],
   "source": [
    "for key in vocabulary.keys(): vocabulary[key] = 0\n",
    "word_counts = np.zeros((len(corpus), len(vocabulary)), dtype=int)\n",
    "\n",
    "for d, bag in enumerate(bags):\n",
    "    for w, word in enumerate(words):\n",
    "        \n",
    "        count = bag.count(word)\n",
    "        \n",
    "        vocabulary[word] += count\n",
    "        word_counts[d, w] = count\n",
    "\n",
    "LINE = '-' + len(vocabulary) * 9 * '-'\n",
    "print1d('{:>9}', vocabulary.keys()             ); print(LINE)\n",
    "print2d('{:9d}', word_counts,        9 * ' ', 0); print(LINE)\n",
    "print1d('{:9d}', vocabulary.values()           )"
   ]
  },
  {
   "cell_type": "code",
   "execution_count": 11,
   "metadata": {},
   "outputs": [
    {
     "name": "stdout",
     "output_type": "stream",
     "text": [
      "investment deutsche     bank   yields   return  nothing  federer     good   volley   tennis   boring     year     high\n",
      "----------------------------------------------------------------------------------------------------------------------\n",
      "      0.5      0.5      0.5      0.5      3.6      0.5      1.5      1.5      3.5      1.5      1.5      0.5      0.5\n",
      "      3.5      1.5      1.5      1.5      3.4      1.5      0.5      0.5      0.5      0.5      0.5      1.5      1.5\n",
      "----------------------------------------------------------------------------------------------------------------------\n",
      "     3.1%     3.0%     3.0%     3.0%    21.6%     3.1%     9.0%     9.0%    21.0%     9.0%     9.0%     3.1%     3.1%\n",
      "    19.0%     8.1%     8.1%     8.1%    18.6%     8.1%     2.7%     2.7%     2.7%     2.7%     2.7%     8.1%     8.1%\n",
      "----------------------------------------------------------------------------------------------------------------------\n"
     ]
    }
   ],
   "source": [
    "n_topics = 2\n",
    "\n",
    "lda = LatentDirichletAllocation(n_components = n_topics, learning_method='batch', max_iter=50, n_jobs = -1)\n",
    "\n",
    "lda.fit(word_counts)\n",
    "\n",
    "words_in_topics = normalize(lda.components_, norm='l1')\n",
    "\n",
    "print1d('{:>9}',   vocabulary.keys()); print(LINE)\n",
    "print2d('{:9.1f}', lda.components_  ); print(LINE)\n",
    "print2d('{:9.1%}', words_in_topics  ); print(LINE)"
   ]
  },
  {
   "cell_type": "code",
   "execution_count": 12,
   "metadata": {},
   "outputs": [
    {
     "name": "stdout",
     "output_type": "stream",
     "text": [
      "Topic 0  Topic 1  \n",
      "             91%  \n",
      "             85%  \n",
      "    89%           \n",
      "    92%           \n",
      "             89%  \n"
     ]
    }
   ],
   "source": [
    "topics_in_corpus = lda.transform(word_counts)\n",
    "\n",
    "print1d('Topic{:2d}  ', range(n_topics)               )\n",
    "print2d('{:7.0%}  ',    topics_in_corpus, 9 * ' ', 0.5)"
   ]
  },
  {
   "cell_type": "code",
   "execution_count": 13,
   "metadata": {},
   "outputs": [
    {
     "name": "stdout",
     "output_type": "stream",
     "text": [
      "investment deutsche     bank   yields   return  nothing  federer     good   volley   tennis   boring     year     high\n",
      "----------------------------------------------------------------------------------------------------------------------\n",
      "        1        1        1        1        1                                                                        \n",
      "        1                                   1        1                                                               \n",
      "                                            1                 1        1        1                                    \n",
      "                                            2                                   2        1        1                  \n",
      "        1                                   1                                                              1        1\n",
      "----------------------------------------------------------------------------------------------------------------------\n",
      "      0.9      0.4      0.4      0.4      0.9      0.4                                                   0.4      0.4\n",
      "      0.5                                 0.6                                                                        \n",
      "                                          0.9                                 0.8                                    \n",
      "                                          1.3               0.5      0.5      1.2      0.5      0.5                  \n",
      "      0.7                                 0.8                                                                        \n"
     ]
    }
   ],
   "source": [
    "words_in_corpus  = topics_in_corpus.dot(words_in_topics)\n",
    "length_in_corpus = [len(bag) for bag in bags]\n",
    "word_counts_in_corpus = np.diag(length_in_corpus).dot(words_in_corpus)\n",
    "\n",
    "print1d('{:>9}',   vocabulary.keys()                    ); print(LINE)\n",
    "print2d('{:9d}',   word_counts,           9 * ' ', 0    ); print(LINE)\n",
    "print2d('{:9.1f}', word_counts_in_corpus, 9 * ' ', 0.334)"
   ]
  },
  {
   "cell_type": "code",
   "execution_count": 49,
   "metadata": {},
   "outputs": [
    {
     "name": "stdout",
     "output_type": "stream",
     "text": [
      "investment,return,  yields,bank,deutsche,high,year,nothing,  good,federer,volley,boring,tennis\n",
      "return,volley,  boring,tennis,good,federer,nothing,  investment,high,year,yields,bank,deutsche\n"
     ]
    }
   ],
   "source": [
    "def topic_description(words, probabilities):\n",
    "\n",
    "    cumulated = 0\n",
    "    description = ''\n",
    "    \n",
    "    for w in np.argsort(probabilities)[::-1]:\n",
    "\n",
    "        probability = probabilities[w]\n",
    "        description += words[w]  + ','\n",
    "        \n",
    "        if (cumulated < 1/3 <= cumulated + probability) or (cumulated < 4/5 <= cumulated + probability):\n",
    "            description += '  '\n",
    "        \n",
    "        cumulated += probability\n",
    "    \n",
    "    return description.rstrip(' ').rstrip(',')\n",
    "\n",
    "descriptions = []\n",
    "\n",
    "for probabilities in words_in_topics:\n",
    "    description = topic_description(words, probabilities)\n",
    "    print(description)\n",
    "    descriptions.append(description)"
   ]
  },
  {
   "cell_type": "code",
   "execution_count": 50,
   "metadata": {},
   "outputs": [
    {
     "name": "stdout",
     "output_type": "stream",
     "text": [
      "\n",
      "\"Investment in Deutsche Bank yields low return.\"\n",
      "X  91% investment,return,  yields,bank,deutsche,high,year,nothing,  good,federer,volley,boring,tennis\n",
      "-  9% return,volley,  boring,tennis,good,federer,nothing,  investment,high,year,yields,bank,deutsche\n",
      "\n",
      "\"My investment may return nothing.\"\n",
      "X  85% investment,return,  yields,bank,deutsche,high,year,nothing,  good,federer,volley,boring,tennis\n",
      "-  15% return,volley,  boring,tennis,good,federer,nothing,  investment,high,year,yields,bank,deutsche\n",
      "\n",
      "\"Federer’s return was good, his volley was not.\"\n",
      "-  11% investment,return,  yields,bank,deutsche,high,year,nothing,  good,federer,volley,boring,tennis\n",
      "X  89% return,volley,  boring,tennis,good,federer,nothing,  investment,high,year,yields,bank,deutsche\n",
      "\n",
      "\"Return volley, return volley; tennis is boring.\"\n",
      "-  8% investment,return,  yields,bank,deutsche,high,year,nothing,  good,federer,volley,boring,tennis\n",
      "X  92% return,volley,  boring,tennis,good,federer,nothing,  investment,high,year,yields,bank,deutsche\n",
      "\n",
      "\"Return on investment is on a ten year high.\"\n",
      "X  89% investment,return,  yields,bank,deutsche,high,year,nothing,  good,federer,volley,boring,tennis\n",
      "-  11% return,volley,  boring,tennis,good,federer,nothing,  investment,high,year,yields,bank,deutsche\n"
     ]
    }
   ],
   "source": [
    "for document, probabilities in zip(corpus, topics_in_corpus):\n",
    "\n",
    "    print('\\n\"{}\"'.format(document))\n",
    "    \n",
    "    for probability, description in zip(probabilities, descriptions):\n",
    "        print('{} {:.0%} {:}'.format('X ' if probability > 0.5 else '- ', probability, description))"
   ]
  },
  {
   "cell_type": "markdown",
   "metadata": {},
   "source": [
    "<img source='images/lda-on-returns-word-use-in-5-sentences.PNG'/>"
   ]
  },
  {
   "cell_type": "markdown",
   "metadata": {},
   "source": [
    "## Lattice of the \"Sentence uses word\" relation\n",
    "<img src='images/lda-on-returns-word-use-in-5-sentences.PNG' style='width:60%'/>"
   ]
  },
  {
   "cell_type": "markdown",
   "metadata": {},
   "source": [
    "## Lattice of the \"Sentence uses word\" relation, given two more sentences\n",
    "<img src='images/lda-on-returns-word-use-in-7-sentences.PNG' style='width:60%'/>"
   ]
  },
  {
   "cell_type": "code",
   "execution_count": null,
   "metadata": {},
   "outputs": [],
   "source": []
  }
 ],
 "metadata": {
  "kernelspec": {
   "display_name": "Python 3",
   "language": "python",
   "name": "python3"
  },
  "language_info": {
   "codemirror_mode": {
    "name": "ipython",
    "version": 3
   },
   "file_extension": ".py",
   "mimetype": "text/x-python",
   "name": "python",
   "nbconvert_exporter": "python",
   "pygments_lexer": "ipython3",
   "version": "3.6.6"
  }
 },
 "nbformat": 4,
 "nbformat_minor": 2
}
